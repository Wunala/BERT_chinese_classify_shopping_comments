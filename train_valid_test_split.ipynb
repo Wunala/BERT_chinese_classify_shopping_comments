{
 "cells": [
  {
   "cell_type": "code",
   "execution_count": 1,
   "metadata": {},
   "outputs": [],
   "source": [
    "import pandas as pd"
   ]
  },
  {
   "cell_type": "code",
   "execution_count": 2,
   "metadata": {},
   "outputs": [],
   "source": [
    "path = '/Users/dudushuomingshu/Downloads/'"
   ]
  },
  {
   "cell_type": "code",
   "execution_count": 14,
   "metadata": {},
   "outputs": [
    {
     "data": {
      "text/html": [
       "<div>\n",
       "<style scoped>\n",
       "    .dataframe tbody tr th:only-of-type {\n",
       "        vertical-align: middle;\n",
       "    }\n",
       "\n",
       "    .dataframe tbody tr th {\n",
       "        vertical-align: top;\n",
       "    }\n",
       "\n",
       "    .dataframe thead th {\n",
       "        text-align: right;\n",
       "    }\n",
       "</style>\n",
       "<table border=\"1\" class=\"dataframe\">\n",
       "  <thead>\n",
       "    <tr style=\"text-align: right;\">\n",
       "      <th></th>\n",
       "      <th>Unnamed: 0</th>\n",
       "      <th>cat</th>\n",
       "      <th>label</th>\n",
       "      <th>review</th>\n",
       "    </tr>\n",
       "  </thead>\n",
       "  <tbody>\n",
       "    <tr>\n",
       "      <th>0</th>\n",
       "      <td>58074</td>\n",
       "      <td>酒店</td>\n",
       "      <td>0</td>\n",
       "      <td>酒店的怪味根本无法忍受，设施也不方便，全然不是如家的风格，住了一晚就迫不及待地逃跑了，若不是...</td>\n",
       "    </tr>\n",
       "    <tr>\n",
       "      <th>1</th>\n",
       "      <td>17080</td>\n",
       "      <td>水果</td>\n",
       "      <td>1</td>\n",
       "      <td>味道不错，好吃啊，苹果正宗，味道不错，好吃啊，苹果正宗，味道不错，好吃啊，苹果正宗，</td>\n",
       "    </tr>\n",
       "    <tr>\n",
       "      <th>2</th>\n",
       "      <td>33504</td>\n",
       "      <td>洗发水</td>\n",
       "      <td>0</td>\n",
       "      <td>控油很不给力，也没什么香味</td>\n",
       "    </tr>\n",
       "    <tr>\n",
       "      <th>3</th>\n",
       "      <td>43475</td>\n",
       "      <td>衣服</td>\n",
       "      <td>1</td>\n",
       "      <td>裤子质量蛮不错的，按照卖家介绍的大小也刚刚好！推荐购买！</td>\n",
       "    </tr>\n",
       "    <tr>\n",
       "      <th>4</th>\n",
       "      <td>47731</td>\n",
       "      <td>衣服</td>\n",
       "      <td>0</td>\n",
       "      <td>差评，我定31的，他给我发32的，靠</td>\n",
       "    </tr>\n",
       "    <tr>\n",
       "      <th>...</th>\n",
       "      <td>...</td>\n",
       "      <td>...</td>\n",
       "      <td>...</td>\n",
       "      <td>...</td>\n",
       "    </tr>\n",
       "    <tr>\n",
       "      <th>4995</th>\n",
       "      <td>7685</td>\n",
       "      <td>平板</td>\n",
       "      <td>1</td>\n",
       "      <td>很不错。音效超赞。做工精致。没发现啥大问题。</td>\n",
       "    </tr>\n",
       "    <tr>\n",
       "      <th>4996</th>\n",
       "      <td>53010</td>\n",
       "      <td>酒店</td>\n",
       "      <td>1</td>\n",
       "      <td>如果下次到武夷山，我还是会选择这家酒店，很好！！！</td>\n",
       "    </tr>\n",
       "    <tr>\n",
       "      <th>4997</th>\n",
       "      <td>43203</td>\n",
       "      <td>衣服</td>\n",
       "      <td>1</td>\n",
       "      <td>质量不错，摸着很有质感，第一次拍男朋友穿上有点小，后来又换个大点的，穿上很合适，花玲珑服务态...</td>\n",
       "    </tr>\n",
       "    <tr>\n",
       "      <th>4998</th>\n",
       "      <td>12909</td>\n",
       "      <td>平板</td>\n",
       "      <td>0</td>\n",
       "      <td>32g实际只有24g，超级坑爹！！！</td>\n",
       "    </tr>\n",
       "    <tr>\n",
       "      <th>4999</th>\n",
       "      <td>3841</td>\n",
       "      <td>书籍</td>\n",
       "      <td>0</td>\n",
       "      <td>《不一样的卡梅拉》的确不一样！家里那么多图书，儿子偏偏对它情有独钟。没事就把它从书架上拿下来...</td>\n",
       "    </tr>\n",
       "  </tbody>\n",
       "</table>\n",
       "<p>5000 rows × 4 columns</p>\n",
       "</div>"
      ],
      "text/plain": [
       "      Unnamed: 0  cat  label  \\\n",
       "0          58074   酒店      0   \n",
       "1          17080   水果      1   \n",
       "2          33504  洗发水      0   \n",
       "3          43475   衣服      1   \n",
       "4          47731   衣服      0   \n",
       "...          ...  ...    ...   \n",
       "4995        7685   平板      1   \n",
       "4996       53010   酒店      1   \n",
       "4997       43203   衣服      1   \n",
       "4998       12909   平板      0   \n",
       "4999        3841   书籍      0   \n",
       "\n",
       "                                                 review  \n",
       "0     酒店的怪味根本无法忍受，设施也不方便，全然不是如家的风格，住了一晚就迫不及待地逃跑了，若不是...  \n",
       "1            味道不错，好吃啊，苹果正宗，味道不错，好吃啊，苹果正宗，味道不错，好吃啊，苹果正宗，  \n",
       "2                                         控油很不给力，也没什么香味  \n",
       "3                          裤子质量蛮不错的，按照卖家介绍的大小也刚刚好！推荐购买！  \n",
       "4                                    差评，我定31的，他给我发32的，靠  \n",
       "...                                                 ...  \n",
       "4995                             很不错。音效超赞。做工精致。没发现啥大问题。  \n",
       "4996                          如果下次到武夷山，我还是会选择这家酒店，很好！！！  \n",
       "4997  质量不错，摸着很有质感，第一次拍男朋友穿上有点小，后来又换个大点的，穿上很合适，花玲珑服务态...  \n",
       "4998                                 32g实际只有24g，超级坑爹！！！  \n",
       "4999  《不一样的卡梅拉》的确不一样！家里那么多图书，儿子偏偏对它情有独钟。没事就把它从书架上拿下来...  \n",
       "\n",
       "[5000 rows x 4 columns]"
      ]
     },
     "execution_count": 14,
     "metadata": {},
     "output_type": "execute_result"
    }
   ],
   "source": [
    "pd_all = pd.read_csv(path + 'sampled_shopping_comments.csv')\n",
    "pd_all"
   ]
  },
  {
   "cell_type": "code",
   "execution_count": 15,
   "metadata": {},
   "outputs": [
    {
     "name": "stdout",
     "output_type": "stream",
     "text": [
      "评论数目（总体）：5000\n",
      "评论数目（正向）：2541\n",
      "评论数目（负向）：2459\n"
     ]
    }
   ],
   "source": [
    "print('评论数目（总体）：%d' % pd_all.shape[0])\n",
    "print('评论数目（正向）：%d' % pd_all[pd_all.label==1].shape[0])\n",
    "print('评论数目（负向）：%d' % pd_all[pd_all.label==0].shape[0])"
   ]
  },
  {
   "cell_type": "code",
   "execution_count": 16,
   "metadata": {},
   "outputs": [],
   "source": [
    "import os   #分割数据为训练和测试 test：10% train:80% valid:10%\n",
    "import pandas as pd\n",
    "from sklearn.model_selection import train_test_split\n",
    "from sklearn.utils import shuffle\n",
    "\n",
    "def train_valid_test_split(x_data, y_data,\n",
    "        validation_size=0.1, test_size=0.1, shuffle=True):\n",
    "    x_, x_test, y_, y_test = train_test_split(x_data, y_data, test_size=test_size, shuffle=shuffle)\n",
    "    valid_size = validation_size / (1.0 - test_size)\n",
    "    x_train, x_valid, y_train, y_valid = train_test_split(x_, y_, test_size=valid_size, shuffle=shuffle)\n",
    "    return x_train, x_valid, x_test, y_train, y_valid, y_test\n",
    "\n",
    "if __name__ == '__main__':\n",
    "    path = \"/Users/dudushuomingshu/Downloads/\"\n",
    "    pd_all = pd.read_csv(os.path.join(path, 'sampled_shopping_comments.csv'))\n",
    "    pd_all = shuffle(pd_all)\n",
    "    x_data, y_data = pd_all.review, pd_all.label\n",
    "\n",
    "    x_train, x_valid, x_test, y_train, y_valid, y_test = \\\n",
    "            train_valid_test_split(x_data, y_data, 0.1, 0.1)\n",
    "\n",
    "    train = pd.DataFrame({'label':y_train, 'x_train': x_train})\n",
    "    train.to_csv(\"/Users/dudushuomingshu/Downloads/train.csv\", index=False, sep='\\t')\n",
    "    valid = pd.DataFrame({'label':y_valid, 'x_valid': x_valid})\n",
    "    valid.to_csv(\"/Users/dudushuomingshu/Downloads/dev.csv\", index=False, sep='\\t')\n",
    "    test = pd.DataFrame({'label':y_test, 'x_test': x_test})\n",
    "    test.to_csv(\"/Users/dudushuomingshu/Downloads/test.csv\", index=False, sep='\\t')"
   ]
  },
  {
   "cell_type": "code",
   "execution_count": 17,
   "metadata": {},
   "outputs": [
    {
     "data": {
      "text/plain": [
       "3999"
      ]
     },
     "execution_count": 17,
     "metadata": {},
     "output_type": "execute_result"
    }
   ],
   "source": [
    "train.shape[0]"
   ]
  },
  {
   "cell_type": "code",
   "execution_count": 18,
   "metadata": {},
   "outputs": [
    {
     "data": {
      "text/plain": [
       "501"
      ]
     },
     "execution_count": 18,
     "metadata": {},
     "output_type": "execute_result"
    }
   ],
   "source": [
    "valid.shape[0]"
   ]
  },
  {
   "cell_type": "code",
   "execution_count": 19,
   "metadata": {},
   "outputs": [
    {
     "data": {
      "text/plain": [
       "500"
      ]
     },
     "execution_count": 19,
     "metadata": {},
     "output_type": "execute_result"
    }
   ],
   "source": [
    "test.shape[0]"
   ]
  },
  {
   "cell_type": "code",
   "execution_count": null,
   "metadata": {},
   "outputs": [],
   "source": []
  }
 ],
 "metadata": {
  "kernelspec": {
   "display_name": "Python 3",
   "language": "python",
   "name": "python3"
  },
  "language_info": {
   "codemirror_mode": {
    "name": "ipython",
    "version": 3
   },
   "file_extension": ".py",
   "mimetype": "text/x-python",
   "name": "python",
   "nbconvert_exporter": "python",
   "pygments_lexer": "ipython3",
   "version": "3.8.5"
  }
 },
 "nbformat": 4,
 "nbformat_minor": 4
}
